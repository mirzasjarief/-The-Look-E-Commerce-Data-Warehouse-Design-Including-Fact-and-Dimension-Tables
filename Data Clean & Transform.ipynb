{
 "cells": [
  {
   "cell_type": "markdown",
   "metadata": {},
   "source": [
    "\n",
    "Graded Challenge 6\n",
    "\n",
    "Nama  : Mirza Rendra Sjarief\n",
    "Batch : CODA-RMT-001\n",
    "\n",
    "Program ini dibuat untuk melakukan ETL (ekstrak, transform, dan load). Proses ekstrak dilakukan dengan mengambil data dari bigquery, kemudian Load file-file csv tersebut ke PySpark dataframe. Dilanjutkan dengan proses transform dengan library pyspark Proses cleaning dan transform dapat menerapkan perubahan nama kolom, cek dan hapus missing values, menambah atau menghapus kolom. Kemudian data di load  dan dihubungkan ke database PostgreSQL.\n"
   ]
  },
  {
   "cell_type": "code",
   "execution_count": 1,
   "metadata": {},
   "outputs": [],
   "source": [
    "#import nececary librabry\n",
    "import pyspark\n",
    "import findspark\n",
    "import pandas as pd\n",
    "from pyspark.sql import SparkSession\n",
    "from pyspark.sql.functions import col, sum, concat, lit, when, to_date\n",
    "from sqlalchemy import create_engine\n",
    "\n"
   ]
  },
  {
   "cell_type": "code",
   "execution_count": 2,
   "metadata": {},
   "outputs": [
    {
     "name": "stderr",
     "output_type": "stream",
     "text": [
      "Setting default log level to \"WARN\".\n",
      "To adjust logging level use sc.setLogLevel(newLevel). For SparkR, use setLogLevel(newLevel).\n",
      "24/12/05 17:54:42 WARN NativeCodeLoader: Unable to load native-hadoop library for your platform... using builtin-java classes where applicable\n"
     ]
    },
    {
     "data": {
      "text/html": [
       "\n",
       "        <div>\n",
       "            <p><b>SparkContext</b></p>\n",
       "\n",
       "            <p><a href=\"http://192.168.1.13:4040\">Spark UI</a></p>\n",
       "\n",
       "            <dl>\n",
       "              <dt>Version</dt>\n",
       "                <dd><code>v3.5.3</code></dd>\n",
       "              <dt>Master</dt>\n",
       "                <dd><code>local[*]</code></dd>\n",
       "              <dt>AppName</dt>\n",
       "                <dd><code>pyspark-shell</code></dd>\n",
       "            </dl>\n",
       "        </div>\n",
       "        "
      ],
      "text/plain": [
       "<SparkContext master=local[*] appName=pyspark-shell>"
      ]
     },
     "execution_count": 2,
     "metadata": {},
     "output_type": "execute_result"
    }
   ],
   "source": [
    "sc = pyspark.SparkContext()\n",
    "sc"
   ]
  },
  {
   "cell_type": "markdown",
   "metadata": {},
   "source": [
    "- Objek konfigurasi untuk Spark, seperti nama aplikasi dan pengaturan master juga membaca data dari file dan membuat RDD."
   ]
  },
  {
   "cell_type": "code",
   "execution_count": 3,
   "metadata": {},
   "outputs": [
    {
     "data": {
      "text/html": [
       "\n",
       "            <div>\n",
       "                <p><b>SparkSession - in-memory</b></p>\n",
       "                \n",
       "        <div>\n",
       "            <p><b>SparkContext</b></p>\n",
       "\n",
       "            <p><a href=\"http://192.168.1.13:4040\">Spark UI</a></p>\n",
       "\n",
       "            <dl>\n",
       "              <dt>Version</dt>\n",
       "                <dd><code>v3.5.3</code></dd>\n",
       "              <dt>Master</dt>\n",
       "                <dd><code>local[*]</code></dd>\n",
       "              <dt>AppName</dt>\n",
       "                <dd><code>pyspark-shell</code></dd>\n",
       "            </dl>\n",
       "        </div>\n",
       "        \n",
       "            </div>\n",
       "        "
      ],
      "text/plain": [
       "<pyspark.sql.session.SparkSession at 0x10d334f80>"
      ]
     },
     "execution_count": 3,
     "metadata": {},
     "output_type": "execute_result"
    }
   ],
   "source": [
    "\n",
    "spark = SparkSession.builder.getOrCreate()\n",
    "spark"
   ]
  },
  {
   "cell_type": "markdown",
   "metadata": {},
   "source": [
    "- Fungsi Utama SparkSession.builder.getOrCreate() Membuat SparkSession Baru, Menyediakan builder untuk mengonfigurasi SparkSession.\n",
    "Menetapkan nama aplikasi Spark. Menetapkan mode Spark . getOrCreate(): Memastikan bahwa hanya ada satu SparkSession, baik itu baru atau yang sudah ada.\n",
    "\n"
   ]
  },
  {
   "cell_type": "markdown",
   "metadata": {},
   "source": [
    "## PySpark Data Transformation"
   ]
  },
  {
   "cell_type": "markdown",
   "metadata": {},
   "source": [
    "- Data transform dan cleaning tabel entity users"
   ]
  },
  {
   "cell_type": "code",
   "execution_count": 4,
   "metadata": {},
   "outputs": [
    {
     "name": "stderr",
     "output_type": "stream",
     "text": [
      "                                                                                \r"
     ]
    },
    {
     "name": "stdout",
     "output_type": "stream",
     "text": [
      "+-----+-----------+---------+--------------------+---+------+-----+--------------------+-----------+--------+-------+------------+------------+--------------+--------------------+--------------------+\n",
      "|   id| first_name|last_name|               email|age|gender|state|      street_address|postal_code|    city|country|    latitude|   longitude|traffic_source|          created_at|           user_geom|\n",
      "+-----+-----------+---------+--------------------+---+------+-----+--------------------+-----------+--------+-------+------------+------------+--------------+--------------------+--------------------+\n",
      "|70913|       Levi|    Hogan|levihogan@example...| 23|     M| Acre|89243 Jennifer Ga...|  69980-000|    null| Brasil|-8.065346116|-72.87094866|      Facebook| 2021-06-16 20:46:00|POINT(-72.8709486...|\n",
      "|34003|Christopher|   Obrien|christopherobrien...| 65|     M| Acre|367 David Isle Ap...|  69980-000|    null| Brasil|-8.065346116|-72.87094866|       Organic| 2021-12-01 15:59:00|POINT(-72.8709486...|\n",
      "|20991|     Connor|    Floyd|connorfloyd@examp...| 38|     M| Acre|3576 Samuel Under...|  69980-000|    null| Brasil|-8.065346116|-72.87094866|        Search| 2020-03-25 17:05:00|POINT(-72.8709486...|\n",
      "|68924|    Crystal|Donaldson|crystaldonaldson@...| 32|     F| Acre|6639 Dickerson St...|  69980-000|    null| Brasil|-8.065346116|-72.87094866|        Search| 2020-10-09 13:19:00|POINT(-72.8709486...|\n",
      "|39692|       Anna|   Miller|annamiller@exampl...| 37|     F| Acre|6775 Kimberly Fer...|  69980-000|    null| Brasil|-8.065346116|-72.87094866|       Organic| 2020-11-28 00:32:00|POINT(-72.8709486...|\n",
      "|80579|    Gregory|   Walker|gregorywalker@exa...| 67|     M| Acre|     961 Glover Hill|  69980-000|    null| Brasil|-8.065346116|-72.87094866|        Search| 2021-07-24 10:46:00|POINT(-72.8709486...|\n",
      "|27677|      Kathy|  Andrews|kathyandrews@exam...| 26|     F| Acre|4305 Scott Center...|  69980-000|    null| Brasil|-8.065346116|-72.87094866|        Search| 2023-08-29 23:35:00|POINT(-72.8709486...|\n",
      "|34396|    Kathryn|   Coffey|kathryncoffey@exa...| 50|     F| Acre|498 Neal Court Ap...|  69980-000|    null| Brasil|-8.065346116|-72.87094866|        Search| 2019-04-13 09:11:00|POINT(-72.8709486...|\n",
      "|29972|  Christine|    Ortiz|christineortiz@ex...| 22|     F| Acre|   8585 Jesse Street|  69980-000|    null| Brasil|-8.065346116|-72.87094866|         Email| 2022-11-10 13:43:00|POINT(-72.8709486...|\n",
      "|82645|      Kayla| Matthews|kaylamatthews@exa...| 36|     F| Acre|91606 Stephanie B...|  69980-000|    null| Brasil|-8.065346116|-72.87094866|        Search| 2020-04-18 08:13:00|POINT(-72.8709486...|\n",
      "|69568|    Miranda|Patterson|mirandapatterson@...| 48|     F| Acre|    9567 Adam Island|  69980-000|    null| Brasil|-8.065346116|-72.87094866|       Display| 2021-02-20 07:08:00|POINT(-72.8709486...|\n",
      "|33227|      Larry|  Ramirez|larryramirez@exam...| 14|     M| Acre| 84176 Shelton Vista|  69980-000|    null| Brasil|-8.065346116|-72.87094866|        Search| 2024-07-14 09:15:00|POINT(-72.8709486...|\n",
      "|13293|    Claudia|  Walters|claudiawalters@ex...| 13|     F| Acre| 9572 Susan Motorway|  69980-000|    null| Brasil|-8.065346116|-72.87094866|         Email| 2022-01-01 21:13:00|POINT(-72.8709486...|\n",
      "|69508|   Virginia| Saunders|virginiasaunders@...| 52|     F| Acre|   883 Morton Branch|  69970-000|Tarauacá| Brasil|-8.325245103|-71.55302951|        Search| 2022-03-01 22:06:00|POINT(-71.5530295...|\n",
      "|11592|    Richard|   Nelson|richardnelson@exa...| 54|     M| Acre|       390 Tina Spur|  69970-000|Tarauacá| Brasil|-8.325245103|-71.55302951|         Email| 2022-06-20 22:06:00|POINT(-71.5530295...|\n",
      "|65184|     Steven|    Davis|stevendavis@examp...| 50|     M| Acre|77716 Ashley Free...|  69970-000|Tarauacá| Brasil|-8.325245103|-71.55302951|        Search| 2019-06-02 22:05:00|POINT(-71.5530295...|\n",
      "|77493|     Jordan|  Edwards|jordanedwards@exa...| 44|     M| Acre|  81837 Freeman Isle|  69970-000|Tarauacá| Brasil|-8.325245103|-71.55302951|        Search| 2019-11-26 20:31:00|POINT(-71.5530295...|\n",
      "|42070|      Karen|     Bell|karenbell@example...| 38|     F| Acre|87163 Michael Pla...|  69970-000|Tarauacá| Brasil|-8.325245103|-71.55302951|        Search| 2024-10-23 20:59:00|POINT(-71.5530295...|\n",
      "|21451|   Michelle|    Ellis|michelleellis@exa...| 66|     F| Acre|7429 Marks Expres...|  69970-000|Tarauacá| Brasil|-8.325245103|-71.55302951|       Organic| 2021-06-16 16:57:00|POINT(-71.5530295...|\n",
      "|72476|    Melanie|   Medina|melaniemedina@exa...| 52|     F| Acre| 024 Katherine Falls|  69970-000|Tarauacá| Brasil|-8.325245103|-71.55302951|         Email|2024-11-28 15:52:...|POINT(-71.5530295...|\n",
      "+-----+-----------+---------+--------------------+---+------+-----+--------------------+-----------+--------+-------+------------+------------+--------------+--------------------+--------------------+\n",
      "only showing top 20 rows\n",
      "\n"
     ]
    }
   ],
   "source": [
    "df_users = spark.read.csv('/Users/mac/Documents/Hacktiv8/GC6/p2-coda001-rmt-gc6-mirzasjarief/look_users.csv', header=True, inferSchema=True)\n",
    "df_users.show()"
   ]
  },
  {
   "cell_type": "markdown",
   "metadata": {},
   "source": [
    "- Load file entity users dari bigquery menggunakan metode spark.read()\n"
   ]
  },
  {
   "cell_type": "code",
   "execution_count": 5,
   "metadata": {},
   "outputs": [],
   "source": [
    "df_users = df_users.dropDuplicates()\n"
   ]
  },
  {
   "cell_type": "markdown",
   "metadata": {},
   "source": [
    "- Code ini memastikan tidak ada duplikat data yang dapat membuat bias pada analisis dengan metode .dropDuplicates()"
   ]
  },
  {
   "cell_type": "code",
   "execution_count": 6,
   "metadata": {},
   "outputs": [
    {
     "name": "stdout",
     "output_type": "stream",
     "text": [
      "root\n",
      " |-- id: integer (nullable = true)\n",
      " |-- first_name: string (nullable = true)\n",
      " |-- last_name: string (nullable = true)\n",
      " |-- email: string (nullable = true)\n",
      " |-- age: integer (nullable = true)\n",
      " |-- gender: string (nullable = true)\n",
      " |-- state: string (nullable = true)\n",
      " |-- street_address: string (nullable = true)\n",
      " |-- postal_code: string (nullable = true)\n",
      " |-- city: string (nullable = true)\n",
      " |-- country: string (nullable = true)\n",
      " |-- latitude: double (nullable = true)\n",
      " |-- longitude: double (nullable = true)\n",
      " |-- traffic_source: string (nullable = true)\n",
      " |-- created_at: timestamp (nullable = true)\n",
      " |-- user_geom: string (nullable = true)\n",
      "\n"
     ]
    }
   ],
   "source": [
    "df_users.printSchema()"
   ]
  },
  {
   "cell_type": "markdown",
   "metadata": {},
   "source": [
    "- Melihat schema dari table entity users, nullable status tiap kolom dan data type dengan hasil tipe data String = 11, Int = 2, double/float = 2, Timestamp = 1"
   ]
  },
  {
   "cell_type": "code",
   "execution_count": 7,
   "metadata": {},
   "outputs": [
    {
     "name": "stderr",
     "output_type": "stream",
     "text": [
      "24/12/05 13:36:56 WARN SparkStringUtils: Truncated the string representation of a plan since it was too large. This behavior can be adjusted by setting 'spark.sql.debug.maxToStringFields'.\n",
      "[Stage 5:=================================================>         (5 + 1) / 6]\r"
     ]
    },
    {
     "name": "stdout",
     "output_type": "stream",
     "text": [
      "+-------+-----------------+----------+---------+--------------------+------------------+------+---------------+--------------------+------------------+-----+-------------+------------------+------------------+--------------+--------------------+\n",
      "|summary|               id|first_name|last_name|               email|               age|gender|          state|      street_address|       postal_code| city|      country|          latitude|         longitude|traffic_source|           user_geom|\n",
      "+-------+-----------------+----------+---------+--------------------+------------------+------+---------------+--------------------+------------------+-----+-------------+------------------+------------------+--------------+--------------------+\n",
      "|  count|            39184|     39184|    39184|               39184|             39184| 39184|          39184|               39184|             39184|39184|        39184|             39184|             39184|         39184|               39184|\n",
      "|   mean|49823.13998060433|      NULL|     NULL|                NULL|41.093839322172315|  NULL|           NULL|                NULL|203513.09102029068| NULL|         NULL|31.532239209807965|19.368536535653423|          NULL|                NULL|\n",
      "| stddev|28856.92245701012|      NULL|     NULL|                NULL|17.000345999481723|  NULL|           NULL|                NULL|213646.44117838456| NULL|         NULL|17.341658940055527| 86.70615507568395|          NULL|                NULL|\n",
      "|    min|                3|     Aaron|   Abbott|aaronallen@exampl...|                12|     F|           Acre|000 Burton Island...|          010-0201|Aalst|    Australia|      -35.46079193|      -149.9888737|       Display|POINT(-0.00498192...|\n",
      "|    max|           100000|       Zoe|   Zuniga|zoenorman@example...|                70|     M|Hauts-de-France|   99994 Warner Oval|               YO8|   桑|United States|       64.86519412|       149.1423483|        Search|POINT(98.1845157 ...|\n",
      "+-------+-----------------+----------+---------+--------------------+------------------+------+---------------+--------------------+------------------+-----+-------------+------------------+------------------+--------------+--------------------+\n",
      "\n"
     ]
    },
    {
     "name": "stderr",
     "output_type": "stream",
     "text": [
      "                                                                                \r"
     ]
    }
   ],
   "source": [
    "df_users.describe().show()"
   ]
  },
  {
   "cell_type": "markdown",
   "metadata": {},
   "source": [
    "- Melihat total isi data di tiap kolom entity users, dan mean, median, std dev, max dan min data integer"
   ]
  },
  {
   "cell_type": "code",
   "execution_count": 7,
   "metadata": {},
   "outputs": [
    {
     "name": "stdout",
     "output_type": "stream",
     "text": [
      "+---+----------+---------+-----+---+------+-----+--------------+-----------+----+-------+--------+---------+--------------+----------+---------+\n",
      "| id|first_name|last_name|email|age|gender|state|street_address|postal_code|city|country|latitude|longitude|traffic_source|created_at|user_geom|\n",
      "+---+----------+---------+-----+---+------+-----+--------------+-----------+----+-------+--------+---------+--------------+----------+---------+\n",
      "|  0|         0|        0|    0|  0|     0|    0|             0|          0|   0|      0|       0|        0|             0|         0|        0|\n",
      "+---+----------+---------+-----+---+------+-----+--------------+-----------+----+-------+--------+---------+--------------+----------+---------+\n",
      "\n"
     ]
    }
   ],
   "source": [
    "\n",
    "\n",
    "null_data_users = df_users.select([sum(col(c).isNull().cast(\"int\")).alias(c) for c in df_users.columns])\n",
    "null_data_users.show()"
   ]
  },
  {
   "cell_type": "markdown",
   "metadata": {},
   "source": [
    "- code ini memiliki perintah untuk mengecek mising value pada dataset"
   ]
  },
  {
   "cell_type": "code",
   "execution_count": 9,
   "metadata": {},
   "outputs": [
    {
     "name": "stderr",
     "output_type": "stream",
     "text": [
      "[Stage 15:>                                                         (0 + 2) / 2]\r"
     ]
    },
    {
     "name": "stdout",
     "output_type": "stream",
     "text": [
      "+-----+-----------+---------+--------------------+---+------+---------+--------------------+-----------+-----------+-------------+--------------+--------------------+\n",
      "|   id| first_name|last_name|               email|age|gender|    state|      street_address|postal_code|       city|      country|traffic_source|           user_geom|\n",
      "+-----+-----------+---------+--------------------+---+------+---------+--------------------+-----------+-----------+-------------+--------------+--------------------+\n",
      "|98265|     Cheryl| Mcintosh|cherylmcintosh@ex...| 67|     F|    Aichi|82272 Hale Villag...|   446-0001|  Anjo city|        Japan|        Search|POINT(137.0968981...|\n",
      "|61804|    Matthew|     Wood|matthewwood@examp...| 21|     M|  Alagoas|432 Collins Exten...|  57230-000|   Coruripe|       Brasil|        Search|POINT(-36.2327050...|\n",
      "|52949|   Courtney|  Kennedy|courtneykennedy@e...| 63|     F|    Amapá|  694 Rachel Heights|  68925-000|    Santana|       Brasil|         Email|POINT(-51.3775319...|\n",
      "|20705|   Kimberly|      Kim|kimberlykim@examp...| 40|     F| Amazonas|0218 Janet Missio...|  69895-000|    Guajará|       Brasil|       Organic|POINT(-72.8285475...|\n",
      "|94666|     Thomas|   Cannon|thomascannon@exam...| 65|     M| Amazonas|909 Dennis Hollow...|      69035|     Manaus|       Brasil|        Search|POINT(-60.0639607...|\n",
      "| 6169|Christopher|   Barnes|christopherbarnes...| 43|     M| Amazonas|   914 Michael Plaza|  69055-010|     Manaus|       Brasil|        Search|POINT(-60.0026485...|\n",
      "|18803|    Heather|  Vazquez|heathervazquez@ex...| 49|     F|Andalucía|     230 Smith Burgs|      41013|    Sevilla|        Spain|        Search|POINT(-5.96836742...|\n",
      "|66675|     Thomas|     Moon|thomasmoon@exampl...| 12|     M|Andalucía|93161 Gomez Via A...|      41005|    Sevilla|        Spain|        Search|POINT(-5.96726928...|\n",
      "|42337|    Tiffany|   Arnold|tiffanyarnold@exa...| 23|     F|Andalucía|    35281 Tran Track|      11360|  San Roque|        Spain|        Search|POINT(-5.35022076...|\n",
      "|82938|Christopher|    Potts|christopherpotts@...| 70|     M|Andalucía|   6226 Henry Fields|      29200|  Antequera|        Spain|        Search|POINT(-4.57514984...|\n",
      "|19363|   Patricia|   Fowler|patriciafowler@ex...| 31|     F|Andalucía|   320 Jacob Highway|      29590|     Málaga|        Spain|        Search|POINT(-4.53466300...|\n",
      "|27306|    Michael|     West|michaelwest@examp...| 17|     M|    Anhui|   101 Davis Centers|     234029|  Zhengzhou|        China|        Search|POINT(116.9337082...|\n",
      "| 1489|  Stephanie|    Lopez|stephanielopez@ex...| 19|     F|    Anhui|6247 Escobar Expr...|     230041|   Shenzhen|        China|        Search|POINT(117.2676007...|\n",
      "|17493|      James|   Torres|jamestorres@examp...| 20|     M|    Anhui|    27514 Kirby Neck|     230012|    Guiyang|        China|        Search|POINT(117.3205114...|\n",
      "| 3025|      Ethan|      Lin|ethanlin@example.com| 23|     M|    Anhui|       924 Knapp Way|     230012|    Guiyang|        China|        Search|POINT(117.3205114...|\n",
      "|65676|        Amy|    Ayala|amyayala@example.com| 68|     F|    Anhui|787 John View Sui...|     241002|  Pingliang|        China|       Organic|POINT(118.3734626...|\n",
      "|94970|     Philip|  Beasley|philipbeasley@exa...| 41|     M|    Anhui|87855 Frederick Walk|     243071|    Zhuzhou|        China|        Search|POINT(118.4583633...|\n",
      "| 2476|       Mark|   Reilly|markreilly@exampl...| 28|     M|  Arizona|     3869 Lara Trace|      85351|   Sun City|United States|       Organic|POINT(-112.282352...|\n",
      "|85632|      Linda|    Smith|lindasmith@exampl...| 25|     F|  Arizona|4640 Vaughn Throu...|      85014|    Phoenix|United States|        Search|POINT(-112.056827...|\n",
      "|81959|       Gary|  Mercado|garymercado@examp...| 70|     M|  Arizona|3958 Mosley Villa...|      85142|Queen Creek|United States|        Search|POINT(-111.661799...|\n",
      "+-----+-----------+---------+--------------------+---+------+---------+--------------------+-----------+-----------+-------------+--------------+--------------------+\n",
      "only showing top 20 rows\n",
      "\n"
     ]
    },
    {
     "name": "stderr",
     "output_type": "stream",
     "text": [
      "                                                                                \r"
     ]
    }
   ],
   "source": [
    "df_users = df_users.drop(\"latitude\",\"longitude\",\"created_at\")\n",
    "\n",
    "df_users.show()"
   ]
  },
  {
   "cell_type": "markdown",
   "metadata": {},
   "source": [
    "- Berikut adalah menghilangkan table latitude dan longitude, tidak diperlukan  karena sudah didefinisikan oleh user_geom, juga kolom created add yang sudah tidak diperlukan karena keterangan user sudah cukup lengkap"
   ]
  },
  {
   "cell_type": "markdown",
   "metadata": {},
   "source": [
    "### Data transform dan cleaning tabel entity products"
   ]
  },
  {
   "cell_type": "code",
   "execution_count": 10,
   "metadata": {},
   "outputs": [
    {
     "name": "stdout",
     "output_type": "stream",
     "text": [
      "+-----+------------------+-----------+--------------------+-----+------------------+----------+--------------------+----------------------+\n",
      "|   id|              cost|   category|                name|brand|      retail_price|department|                 sku|distribution_center_id|\n",
      "+-----+------------------+-----------+--------------------+-----+------------------+----------+--------------------+----------------------+\n",
      "|13842| 2.518749990849756|Accessories|Low Profile Dyed ...|   MG|              6.25|     Women|EBD58B8A3F1D72F42...|                     1|\n",
      "|13928|2.3383499148894105|Accessories|Low Profile Dyed ...|   MG| 5.949999809265137|     Women|2EAC42424D12436BD...|                     1|\n",
      "|14115| 4.879559879379869|Accessories|Enzyme Regular So...|   MG|10.989999771118164|     Women|EE364229B2791D1EF...|                     1|\n",
      "|14157| 4.648769887297898|Accessories|Enzyme Regular So...|   MG|10.989999771118164|     Women|00BD13095D06C20B1...|                     1|\n",
      "|14273| 6.507929886473045|Accessories|Washed Canvas Ivy...|   MG|15.989999771118164|     Women|F531DC20FDE20B7AD...|                     1|\n",
      "|15674|3.1062499998370185|       Plus|Low Profile Dyed ...|   MG|              6.25|     Women|63894CE404B8C6529...|                     1|\n",
      "|15816|3.1772999091416594|       Plus|Low Profile Dyed ...|   MG| 5.949999809265137|     Women|151EA8C2D98CE89C2...|                     1|\n",
      "|28646|  8.73562987972319|Accessories|4 Panel Large Bil...|   MG|19.989999771118164|       Men|789334DE6DAA80D83...|                     1|\n",
      "|28670|2.6759399153566363|Accessories|Low Profile Dyed ...|   MG| 6.179999828338623|       Men|E74843B99DA8B2977...|                     1|\n",
      "|28714| 2.275000000372529|Accessories|Low Profile Dyed ...|   MG|              6.25|       Men|8CA33D44648CC9FEE...|                     1|\n",
      "|28779|  7.36748991528362|Accessories|Fishing Hat (01)-...|   MG|20.989999771118164|       Men|167D739013D283895...|                     1|\n",
      "|28904|6.7957498848550015|Accessories|Fashion Plaid Ivy...|   MG|15.989999771118164|       Men|0EBD0B8B51EB0D006...|                     1|\n",
      "|29007|10.795999868229032|Accessories|Washed Hunting Fi...|   MG|26.989999771118164|       Men|11172787BDF65BA27...|                     1|\n",
      "|12777|16.691290760814255|       Swim|Womens MW Tankini...|   MW|  44.9900016784668|     Women|553C3741E8D893FE9...|                     1|\n",
      "|12810|21.055320884742144|       Swim|Mw Long Ruffle Ta...|   MW|  44.9900016784668|     Women|5A1106FCB6C233176...|                     1|\n",
      "|12812| 21.14530090284795|       Swim|Womens long tanki...|   MW|  44.9900016784668|     Women|179DB74797BDE5F37...|                     1|\n",
      "|12853| 18.71584077014294|       Swim|Womens MW Tankini...|   MW|  44.9900016784668|     Women|5EF893A3104AB0CC8...|                     1|\n",
      "|12900| 17.39565078823306|       Swim|Womens One Piece/...|   MW|  39.9900016784668|     Women|09EA221D3DB11DF1F...|                     1|\n",
      "|13247| 20.65041088706643|       Swim|Womens swimsuit M...|   MW|  44.9900016784668|     Women|EB61C2B1B1BF5D25C...|                     1|\n",
      "|13477|22.600890809484422|       Swim|MW Women's Swimsu...|   MW|  54.9900016784668|     Women|DBC50898CF582DFEB...|                     1|\n",
      "+-----+------------------+-----------+--------------------+-----+------------------+----------+--------------------+----------------------+\n",
      "only showing top 20 rows\n",
      "\n"
     ]
    }
   ],
   "source": [
    "df_products = spark.read.csv('/Users/mac/Documents/Hacktiv8/GC6/p2-coda001-rmt-gc6-mirzasjarief/look_products.csv', header=True, inferSchema=True)\n",
    "df_products.show()"
   ]
  },
  {
   "cell_type": "markdown",
   "metadata": {},
   "source": [
    "- Load file entity products dari bigquery menggunakan metode spark.read()\n"
   ]
  },
  {
   "cell_type": "code",
   "execution_count": 11,
   "metadata": {},
   "outputs": [],
   "source": [
    "df_products = df_products.dropDuplicates()\n"
   ]
  },
  {
   "cell_type": "markdown",
   "metadata": {},
   "source": [
    "- Code ini memastika tidak ada data duplikat pada dataset\n"
   ]
  },
  {
   "cell_type": "code",
   "execution_count": 12,
   "metadata": {},
   "outputs": [
    {
     "name": "stdout",
     "output_type": "stream",
     "text": [
      "root\n",
      " |-- id: integer (nullable = true)\n",
      " |-- cost: double (nullable = true)\n",
      " |-- category: string (nullable = true)\n",
      " |-- name: string (nullable = true)\n",
      " |-- brand: string (nullable = true)\n",
      " |-- retail_price: double (nullable = true)\n",
      " |-- department: string (nullable = true)\n",
      " |-- sku: string (nullable = true)\n",
      " |-- distribution_center_id: integer (nullable = true)\n",
      "\n"
     ]
    }
   ],
   "source": [
    "df_products.printSchema()"
   ]
  },
  {
   "cell_type": "markdown",
   "metadata": {},
   "source": [
    "- Melihat schema dari table entity products, nullable status tiap kolom dan data type dengan hasil tipe data String = 5, Int = 2, double/float = 2, Timestamp = 1"
   ]
  },
  {
   "cell_type": "code",
   "execution_count": 13,
   "metadata": {},
   "outputs": [
    {
     "name": "stderr",
     "output_type": "stream",
     "text": [
      "[Stage 23:======================================>                   (2 + 1) / 3]\r"
     ]
    },
    {
     "name": "stdout",
     "output_type": "stream",
     "text": [
      "-RECORD 0--------------------------------------\n",
      " summary                | count                \n",
      " id                     | 29120                \n",
      " cost                   | 29120                \n",
      " category               | 29120                \n",
      " name                   | 29118                \n",
      " brand                  | 29096                \n",
      " retail_price           | 29120                \n",
      " department             | 29120                \n",
      " sku                    | 29120                \n",
      " distribution_center_id | 29120                \n",
      "-RECORD 1--------------------------------------\n",
      " summary                | mean                 \n",
      " id                     | 14560.5              \n",
      " cost                   | 28.481774240436966   \n",
      " category               | NULL                 \n",
      " name                   | NULL                 \n",
      " brand                  | Infinity             \n",
      " retail_price           | 59.220163865731955   \n",
      " department             | NULL                 \n",
      " sku                    | NULL                 \n",
      " distribution_center_id | 4.982898351648352    \n",
      "-RECORD 2--------------------------------------\n",
      " summary                | stddev               \n",
      " id                     | 8406.364255729095    \n",
      " cost                   | 30.624681214377745   \n",
      " category               | NULL                 \n",
      " name                   | NULL                 \n",
      " brand                  | NaN                  \n",
      " retail_price           | 65.88892669575849    \n",
      " department             | NULL                 \n",
      " sku                    | NULL                 \n",
      " distribution_center_id | 2.9011525517653065   \n",
      "-RECORD 3--------------------------------------\n",
      " summary                | min                  \n",
      " id                     | 1                    \n",
      " cost                   | 0.0082999997779726   \n",
      " category               | Accessories          \n",
      " name                   | !iT Jeans Junior'... \n",
      " brand                  | !it Jeans            \n",
      " retail_price           | 0.0199999995529651   \n",
      " department             | Men                  \n",
      " sku                    | 00003E3B9E5336685... \n",
      " distribution_center_id | 1                    \n",
      "-RECORD 4--------------------------------------\n",
      " summary                | max                  \n",
      " id                     | 29120                \n",
      " cost                   | 557.1510021798313    \n",
      " category               | Underwear            \n",
      " name                   | Â Â Exclusive Haw... \n",
      " brand                  | wear ease            \n",
      " retail_price           | 999.0                \n",
      " department             | Women                \n",
      " sku                    | FFFCC1A3964B4AD66... \n",
      " distribution_center_id | 10                   \n",
      "\n"
     ]
    },
    {
     "name": "stderr",
     "output_type": "stream",
     "text": [
      "                                                                                \r"
     ]
    }
   ],
   "source": [
    "df_products.describe().show(vertical=True)"
   ]
  },
  {
   "cell_type": "markdown",
   "metadata": {},
   "source": [
    "- Melihat total isi data di tiap kolom entity products, serta mean, median, std dev, max dan min data integer. Melalui info diatas ditemukan missing value pada kolom brand (24) dan name (2)."
   ]
  },
  {
   "cell_type": "code",
   "execution_count": 14,
   "metadata": {},
   "outputs": [
    {
     "name": "stdout",
     "output_type": "stream",
     "text": [
      "+-----+------------------+--------------------+--------------------+-----------------+------------------+----------+--------------------+----------------------+\n",
      "|   id|              cost|            category|                name|            brand|      retail_price|department|                 sku|distribution_center_id|\n",
      "+-----+------------------+--------------------+--------------------+-----------------+------------------+----------+--------------------+----------------------+\n",
      "| 8162| 9.820219895048735|               Suits|ICE smart stretch...|              Ice|16.989999771118164|     Women|7F2776F553FE2D5F8...|                     1|\n",
      "|13312| 30.31200013216585|                Swim|TYR Sport Women's...|              TYR|              72.0|     Women|9DD48D8DF816E1B2B...|                     1|\n",
      "|  349| 16.98137974072516|         Tops & Tees|Patty Women Cute ...|            Patty|31.979999542236328|     Women|0BB4AEC1710521C12...|                     1|\n",
      "|  820|15.732739771852494|            Sweaters|Patty Women Comfy...|            Patty| 33.97999954223633|     Women|E2A2DCC36A08A3453...|                     1|\n",
      "|16840|14.497230360482334|         Tops & Tees|Sport Shirt with ...|           Gildan|24.530000686645508|       Men|304CDD05F67E3DD43...|                     1|\n",
      "|13403| 5.791859929529354|                Swim|La Leela Floral P...|         La Leela|13.989999771118164|     Women|A6ED9258D53B17BAC...|                     1|\n",
      "|23454|32.606000024825335|              Shorts|Rip Curl Men's Mi...|         Rip Curl|              59.5|       Men|E6A6F0DE57BA06B57...|                     1|\n",
      "| 4073| 7.523999870628119| Jumpsuits & Rompers|Brave Soul Ladies...|       Brave Soul|13.199999809265137|     Women|350A3797CAEA1668D...|                     1|\n",
      "|24915|13.762650526443872|               Socks|Icebreaker Men's ...|       Icebreaker|21.950000762939453|       Men|D3D9007636BE26969...|                     1|\n",
      "| 5742| 6.341229883820265|            Leggings|Soho Apparel Girl...|       Soho Girls|10.989999771118164|     Women|C7BE03F5D811ED29C...|                     1|\n",
      "|24963|3.7916698629724976|               Socks|RHINO SOCKS SS se...|      Rhino Socks| 5.989999771118164|       Men|B4F6926D4794E9CDB...|                     1|\n",
      "|29092|10.828880272234676|         Accessories|Tommy Hilfiger Me...|   Tommy Hilfiger|24.280000686645508|       Men|2AD36B665A91E877F...|                     1|\n",
      "|18924| 76.00200001895428|            Sweaters|Men's Cashmere Ca...|Cashmere Boutique|             159.0|       Men|911AB169C2439CBC2...|                     1|\n",
      "|10036|11.420000046491625|      Sleep & Lounge|Hue Sleepwear Wom...|              HUE|              20.0|     Women|7C127E0C66F06E58C...|                     2|\n",
      "|16944|14.455999960191548|         Tops & Tees|LRG Core Collecti...|              LRG|              26.0|       Men|EF469DA55386B8999...|                     2|\n",
      "|10363| 18.07199994474649|           Intimates|Bali Women's Live...|             Bali|              36.0|     Women|A1DC51EE503C5FE51...|                     2|\n",
      "| 1054| 28.91699986346066|            Sweaters|Roxy Juniors Elm ...|             Roxy|              59.5|     Women|DB576A7D2453575F2...|                     2|\n",
      "| 1526|28.064400711166115|Fashion Hoodies &...|Roxy Women's BLUE...|             Roxy|53.970001220703125|     Women|E60E81C4CBE5171CD...|                     2|\n",
      "|14041| 61.75008105894744|         Accessories|New Ray Ban RB 41...|          Ray-Ban|142.94000244140625|     Women|C4A39D2DAE0A618F4...|                     2|\n",
      "|28556| 48.09630192593559|         Accessories|Ray-Ban RB 2132 8...|          Ray-Ban|129.99000549316406|       Men|6B96D8418F2FE6AF7...|                     2|\n",
      "+-----+------------------+--------------------+--------------------+-----------------+------------------+----------+--------------------+----------------------+\n",
      "only showing top 20 rows\n",
      "\n"
     ]
    }
   ],
   "source": [
    "df_products = df_products.na.fill({\"brand\": \"Unknown\", \"name\": \"Unknown\"})\n",
    "df_products.show()"
   ]
  },
  {
   "cell_type": "markdown",
   "metadata": {},
   "source": [
    "- Code berikut adalah metode mengisi missing value na.fill(), dalam kasus ini tidak perlu menghapus data karena missing value tidak terlalu banyak maka dapat diganti dengan keterangan lain, dan agar tidak mengubah esensi data."
   ]
  },
  {
   "cell_type": "code",
   "execution_count": 15,
   "metadata": {},
   "outputs": [
    {
     "name": "stdout",
     "output_type": "stream",
     "text": [
      "+---+----+--------+----+-----+------------+----------+---+----------------------+\n",
      "| id|cost|category|name|brand|retail_price|department|sku|distribution_center_id|\n",
      "+---+----+--------+----+-----+------------+----------+---+----------------------+\n",
      "|  0|   0|       0|   0|    0|           0|         0|  0|                     0|\n",
      "+---+----+--------+----+-----+------------+----------+---+----------------------+\n",
      "\n"
     ]
    }
   ],
   "source": [
    "\n",
    "null_data_products = df_products.select([sum(col(c).isNull().cast(\"int\")).alias(c) for c in df_products.columns])\n",
    "null_data_products.show()"
   ]
  },
  {
   "cell_type": "markdown",
   "metadata": {},
   "source": [
    "- Code berikut menunjukan dengan spesifik bahwa tidak ada lagi kolom dengan missing value"
   ]
  },
  {
   "cell_type": "code",
   "execution_count": 16,
   "metadata": {},
   "outputs": [
    {
     "name": "stdout",
     "output_type": "stream",
     "text": [
      "+-----+------------------+----------------+--------------------+-------------+------------------+----------+--------------------+----------------------+\n",
      "|   id|      product_cost|product_category|        product_name|product_brand|      retail_price|department|                 sku|distribution_center_id|\n",
      "+-----+------------------+----------------+--------------------+-------------+------------------+----------+--------------------+----------------------+\n",
      "| 8162| 9.820219895048735|           Suits|ICE smart stretch...|          Ice|16.989999771118164|     Women|7F2776F553FE2D5F8...|                     1|\n",
      "|13312| 30.31200013216585|            Swim|TYR Sport Women's...|          TYR|              72.0|     Women|9DD48D8DF816E1B2B...|                     1|\n",
      "|  349| 16.98137974072516|     Tops & Tees|Patty Women Cute ...|        Patty|31.979999542236328|     Women|0BB4AEC1710521C12...|                     1|\n",
      "|  820|15.732739771852494|        Sweaters|Patty Women Comfy...|        Patty| 33.97999954223633|     Women|E2A2DCC36A08A3453...|                     1|\n",
      "|16840|14.497230360482334|     Tops & Tees|Sport Shirt with ...|       Gildan|24.530000686645508|       Men|304CDD05F67E3DD43...|                     1|\n",
      "+-----+------------------+----------------+--------------------+-------------+------------------+----------+--------------------+----------------------+\n",
      "only showing top 5 rows\n",
      "\n"
     ]
    }
   ],
   "source": [
    "df_products = df_products.withColumnRenamed(\"cost\", \"product_cost\").withColumnRenamed(\"category\", \"product_category\").withColumnRenamed(\"name\", \"product_name\").withColumnRenamed(\"brand\", \"product_brand\")\n",
    "\n",
    "\n",
    "df_products.show(5)"
   ]
  },
  {
   "cell_type": "markdown",
   "metadata": {},
   "source": [
    "- Code berikut merubah nama kolom untuk mempermudah identifikasi"
   ]
  },
  {
   "cell_type": "markdown",
   "metadata": {},
   "source": [
    "### Data transform dan cleaning tabel entity orders"
   ]
  },
  {
   "cell_type": "code",
   "execution_count": 17,
   "metadata": {},
   "outputs": [
    {
     "name": "stderr",
     "output_type": "stream",
     "text": [
      "                                                                                \r"
     ]
    },
    {
     "name": "stdout",
     "output_type": "stream",
     "text": [
      "+--------+-------+---------+------+-------------------+-----------+----------+------------+-----------+\n",
      "|order_id|user_id|   status|gender|         created_at|returned_at|shipped_at|delivered_at|num_of_item|\n",
      "+--------+-------+---------+------+-------------------+-----------+----------+------------+-----------+\n",
      "|       4|      3|Cancelled|     F|2024-04-05 16:51:00|       NULL|      NULL|        NULL|          4|\n",
      "|      36|     28|Cancelled|     F|2022-07-09 17:00:00|       NULL|      NULL|        NULL|          1|\n",
      "|      42|     34|Cancelled|     F|2024-07-01 20:05:00|       NULL|      NULL|        NULL|          1|\n",
      "|      68|     50|Cancelled|     F|2024-11-08 00:27:00|       NULL|      NULL|        NULL|          2|\n",
      "|      69|     50|Cancelled|     F|2024-02-24 00:27:00|       NULL|      NULL|        NULL|          1|\n",
      "|      85|     63|Cancelled|     F|2023-07-28 14:53:00|       NULL|      NULL|        NULL|          1|\n",
      "|      91|     66|Cancelled|     F|2023-08-14 00:20:00|       NULL|      NULL|        NULL|          1|\n",
      "|     105|     77|Cancelled|     F|2021-09-18 16:40:00|       NULL|      NULL|        NULL|          1|\n",
      "|     154|    117|Cancelled|     F|2022-09-29 19:44:00|       NULL|      NULL|        NULL|          2|\n",
      "|     165|    126|Cancelled|     F|2024-11-03 23:20:00|       NULL|      NULL|        NULL|          1|\n",
      "|     169|    128|Cancelled|     F|2022-03-29 17:26:00|       NULL|      NULL|        NULL|          3|\n",
      "|     174|    132|Cancelled|     F|2023-08-16 18:56:00|       NULL|      NULL|        NULL|          2|\n",
      "|     184|    137|Cancelled|     F|2024-08-28 11:10:00|       NULL|      NULL|        NULL|          1|\n",
      "|     193|    142|Cancelled|     F|2024-09-29 14:18:00|       NULL|      NULL|        NULL|          1|\n",
      "|     207|    152|Cancelled|     F|2023-08-13 13:08:00|       NULL|      NULL|        NULL|          2|\n",
      "|     211|    155|Cancelled|     F|2024-08-20 11:22:00|       NULL|      NULL|        NULL|          4|\n",
      "|     212|    155|Cancelled|     F|2024-09-13 11:22:00|       NULL|      NULL|        NULL|          2|\n",
      "|     221|    165|Cancelled|     F|2023-09-23 21:58:00|       NULL|      NULL|        NULL|          2|\n",
      "|     225|    168|Cancelled|     F|2021-07-18 01:20:00|       NULL|      NULL|        NULL|          1|\n",
      "|     238|    176|Cancelled|     F|2019-08-11 09:23:00|       NULL|      NULL|        NULL|          1|\n",
      "+--------+-------+---------+------+-------------------+-----------+----------+------------+-----------+\n",
      "only showing top 20 rows\n",
      "\n"
     ]
    }
   ],
   "source": [
    "df_orders = spark.read.csv('/Users/mac/Documents/Hacktiv8/GC6/p2-coda001-rmt-gc6-mirzasjarief/bq-result_look_orders.csv', header=True, inferSchema=True)\n",
    "df_orders.show()"
   ]
  },
  {
   "cell_type": "code",
   "execution_count": 18,
   "metadata": {},
   "outputs": [],
   "source": [
    "df_orders = df_orders.dropDuplicates()\n"
   ]
  },
  {
   "cell_type": "markdown",
   "metadata": {},
   "source": [
    "- Code ini memastikan tidak ada duplikat pada tabel yang dapat menyebabkan bias pada data"
   ]
  },
  {
   "cell_type": "code",
   "execution_count": 19,
   "metadata": {},
   "outputs": [
    {
     "name": "stdout",
     "output_type": "stream",
     "text": [
      "root\n",
      " |-- order_id: integer (nullable = true)\n",
      " |-- user_id: integer (nullable = true)\n",
      " |-- status: string (nullable = true)\n",
      " |-- gender: string (nullable = true)\n",
      " |-- created_at: timestamp (nullable = true)\n",
      " |-- returned_at: timestamp (nullable = true)\n",
      " |-- shipped_at: timestamp (nullable = true)\n",
      " |-- delivered_at: timestamp (nullable = true)\n",
      " |-- num_of_item: integer (nullable = true)\n",
      "\n"
     ]
    }
   ],
   "source": [
    "df_orders.printSchema()"
   ]
  },
  {
   "cell_type": "markdown",
   "metadata": {},
   "source": [
    "- Melihat schema dari table entity Orders, nullable status tiap kolom dan data type dengan hasil tipe data String = 2, Int = 3, Timestamp = 4"
   ]
  },
  {
   "cell_type": "code",
   "execution_count": 20,
   "metadata": {},
   "outputs": [
    {
     "name": "stderr",
     "output_type": "stream",
     "text": [
      "                                                                                \r"
     ]
    },
    {
     "name": "stdout",
     "output_type": "stream",
     "text": [
      "-RECORD 0-------------------------\n",
      " summary     | count              \n",
      " order_id    | 125905             \n",
      " user_id     | 125905             \n",
      " status      | 125905             \n",
      " gender      | 125905             \n",
      " num_of_item | 125905             \n",
      "-RECORD 1-------------------------\n",
      " summary     | mean               \n",
      " order_id    | 62953.0            \n",
      " user_id     | 50073.943306461224 \n",
      " status      | NULL               \n",
      " gender      | NULL               \n",
      " num_of_item | 1.4527222906159405 \n",
      "-RECORD 2-------------------------\n",
      " summary     | stddev             \n",
      " order_id    | 36345.787158440624 \n",
      " user_id     | 28871.860405565214 \n",
      " status      | NULL               \n",
      " gender      | NULL               \n",
      " num_of_item | 0.8073639535699144 \n",
      "-RECORD 3-------------------------\n",
      " summary     | min                \n",
      " order_id    | 1                  \n",
      " user_id     | 1                  \n",
      " status      | Cancelled          \n",
      " gender      | F                  \n",
      " num_of_item | 1                  \n",
      "-RECORD 4-------------------------\n",
      " summary     | max                \n",
      " order_id    | 125905             \n",
      " user_id     | 100000             \n",
      " status      | Shipped            \n",
      " gender      | M                  \n",
      " num_of_item | 4                  \n",
      "\n"
     ]
    }
   ],
   "source": [
    "df_orders.describe().show(vertical=True)"
   ]
  },
  {
   "cell_type": "code",
   "execution_count": 21,
   "metadata": {},
   "outputs": [
    {
     "name": "stderr",
     "output_type": "stream",
     "text": [
      "[Stage 48:===================>                                      (1 + 2) / 3]\r"
     ]
    },
    {
     "name": "stdout",
     "output_type": "stream",
     "text": [
      "+--------+-------+------+------+----------+-----------+----------+------------+-----------+\n",
      "|order_id|user_id|status|gender|created_at|returned_at|shipped_at|delivered_at|num_of_item|\n",
      "+--------+-------+------+------+----------+-----------+----------+------------+-----------+\n",
      "|       0|      0|     0|     0|         0|     113337|     44179|       81852|          0|\n",
      "+--------+-------+------+------+----------+-----------+----------+------------+-----------+\n",
      "\n"
     ]
    },
    {
     "name": "stderr",
     "output_type": "stream",
     "text": [
      "                                                                                \r"
     ]
    }
   ],
   "source": [
    "\n",
    "null_data_orders = df_orders.select([sum(col(c).isNull().cast(\"int\")).alias(c) for c in df_orders.columns])\n",
    "null_data_orders.show()"
   ]
  },
  {
   "cell_type": "markdown",
   "metadata": {},
   "source": [
    "- Code berikut menunjukan total missing value pada tabel orders dimana pada kolom returned_at, delivered_at, shipped_at memiliki missing value lebih dari 50%  dari total data  yang ada namun tidak saya hapus karen missing value tersebut memiliki  arti status cancelled sehingga masih dibutuhkan dalam analisis jangka panjang."
   ]
  },
  {
   "cell_type": "markdown",
   "metadata": {},
   "source": [
    "- Berikut code dan metode untuk menghapus kolom .drop(), dimana kita menghapus kolom returned_at,shipped_at,delivered_at"
   ]
  },
  {
   "cell_type": "code",
   "execution_count": 22,
   "metadata": {},
   "outputs": [
    {
     "name": "stderr",
     "output_type": "stream",
     "text": [
      "[Stage 54:===================>                                      (1 + 2) / 3]\r"
     ]
    },
    {
     "name": "stdout",
     "output_type": "stream",
     "text": [
      "+-----+-------+--------+------+-------------------+-------------------+-------------------+-------------------+--------------+\n",
      "|   id|user_id|  status|gender|         created_at|        returned_at|         shipped_at|       delivered_at|order_quantity|\n",
      "+-----+-------+--------+------+-------------------+-------------------+-------------------+-------------------+--------------+\n",
      "| 8723|   6933|Returned|     F|2024-08-28 13:44:00|2024-09-04 10:23:00|2024-08-29 19:36:00|2024-09-02 05:27:00|             1|\n",
      "|18656|  14900|Returned|     F|2019-03-19 14:23:00|2019-03-25 17:12:00|2019-03-21 09:54:00|2019-03-22 22:36:00|             1|\n",
      "|20291|  16180|Returned|     F|2023-01-19 01:14:00|2023-01-25 01:32:00|2023-01-19 18:56:00|2023-01-23 08:52:00|             1|\n",
      "|22052|  17573|Returned|     F|2023-11-18 01:15:00|2023-11-20 16:47:00|2023-11-18 12:34:00|2023-11-18 19:53:00|             1|\n",
      "|28139|  22432|Returned|     F|2019-08-13 14:06:00|2019-08-19 16:29:00|2019-08-16 00:56:00|2019-08-17 15:12:00|             1|\n",
      "+-----+-------+--------+------+-------------------+-------------------+-------------------+-------------------+--------------+\n",
      "only showing top 5 rows\n",
      "\n"
     ]
    },
    {
     "name": "stderr",
     "output_type": "stream",
     "text": [
      "                                                                                \r"
     ]
    }
   ],
   "source": [
    "df_orders = df_orders.withColumnRenamed(\"order_id\", \"id\").withColumnRenamed(\"num_of_item\", \"order_quantity\")\n",
    "\n",
    "\n",
    "df_orders.show(5)"
   ]
  },
  {
   "cell_type": "markdown",
   "metadata": {},
   "source": [
    "- Code ini berfungsi untuk mengubah nama kolom dengan metode withColumnRenamed(), dalam kasus ini mengubah kolom order_id dan num_of_item, untuk memperjelas definisinya masing-masing"
   ]
  },
  {
   "cell_type": "code",
   "execution_count": 23,
   "metadata": {},
   "outputs": [
    {
     "name": "stderr",
     "output_type": "stream",
     "text": [
      "[Stage 57:===================>                                      (1 + 2) / 3]\r"
     ]
    },
    {
     "name": "stdout",
     "output_type": "stream",
     "text": [
      "+-----+-------+--------+-------------------+-------------------+-------------------+-------------------+--------------+\n",
      "|   id|user_id|  status|         created_at|        returned_at|         shipped_at|       delivered_at|order_quantity|\n",
      "+-----+-------+--------+-------------------+-------------------+-------------------+-------------------+--------------+\n",
      "| 8723|   6933|Returned|2024-08-28 13:44:00|2024-09-04 10:23:00|2024-08-29 19:36:00|2024-09-02 05:27:00|             1|\n",
      "|18656|  14900|Returned|2019-03-19 14:23:00|2019-03-25 17:12:00|2019-03-21 09:54:00|2019-03-22 22:36:00|             1|\n",
      "|20291|  16180|Returned|2023-01-19 01:14:00|2023-01-25 01:32:00|2023-01-19 18:56:00|2023-01-23 08:52:00|             1|\n",
      "|22052|  17573|Returned|2023-11-18 01:15:00|2023-11-20 16:47:00|2023-11-18 12:34:00|2023-11-18 19:53:00|             1|\n",
      "|28139|  22432|Returned|2019-08-13 14:06:00|2019-08-19 16:29:00|2019-08-16 00:56:00|2019-08-17 15:12:00|             1|\n",
      "|31428|  25094|Returned|2022-12-13 11:04:00|2022-12-17 15:57:00|2022-12-13 13:25:00|2022-12-17 00:51:00|             2|\n",
      "|34701|  27684|Returned|2024-10-16 10:28:00|2024-10-22 00:37:00|2024-10-17 14:34:00|2024-10-21 07:09:00|             2|\n",
      "|47584|  37817|Returned|2022-05-01 07:09:00|2022-05-09 20:29:00|2022-05-02 18:34:00|2022-05-07 13:39:00|             2|\n",
      "|48234|  38321|Returned|2020-12-15 19:40:00|2020-12-20 10:23:00|2020-12-16 15:15:00|2020-12-19 11:29:00|             1|\n",
      "|51464|  40957|Returned|2024-07-08 23:11:00|2024-07-14 07:56:00|2024-07-11 20:51:00|2024-07-12 02:27:00|             1|\n",
      "|52270|  41623|Returned|2024-11-07 21:03:00|2024-11-11 05:10:00|2024-11-09 12:00:00|2024-11-10 10:06:00|             1|\n",
      "|54298|  43230|Returned|2023-06-12 20:14:00|2023-06-17 13:08:00|2023-06-14 01:03:00|2023-06-16 06:47:00|             1|\n",
      "|60242|  48052|Returned|2023-02-21 12:00:00|2023-02-26 23:35:00|2023-02-22 11:22:00|2023-02-26 03:29:00|             1|\n",
      "|65670|  52326|Returned|2024-06-02 17:37:00|2024-06-09 13:16:00|2024-06-05 13:21:00|2024-06-09 02:25:00|             1|\n",
      "|66218|  52791|Returned|2024-11-10 15:11:00|2024-11-18 01:41:00|2024-11-12 20:04:00|2024-11-16 04:06:00|             1|\n",
      "|67718|  53975|Returned|2022-11-04 12:25:00|2022-11-11 22:08:00|2022-11-07 01:27:00|2022-11-09 01:11:00|             2|\n",
      "|68476|  54572|Returned|2024-11-18 01:07:00|2024-11-24 13:22:00|2024-11-18 19:02:00|2024-11-23 18:15:00|             1|\n",
      "|69927|  55692|Returned|2023-02-19 14:31:00|2023-02-25 11:33:00|2023-02-21 16:59:00|2023-02-24 01:56:00|             1|\n",
      "|72082|  57399|Returned|2022-05-08 09:24:00|2022-05-14 07:00:00|2022-05-08 22:32:00|2022-05-12 03:44:00|             1|\n",
      "|77617|  61747|Returned|2024-01-31 08:27:00|2024-02-06 08:52:00|2024-02-02 21:54:00|2024-02-06 04:22:00|             1|\n",
      "+-----+-------+--------+-------------------+-------------------+-------------------+-------------------+--------------+\n",
      "only showing top 20 rows\n",
      "\n"
     ]
    },
    {
     "name": "stderr",
     "output_type": "stream",
     "text": [
      "                                                                                \r"
     ]
    }
   ],
   "source": [
    "df_orders = df_orders.drop(\"gender\")\n",
    "df_orders.show()"
   ]
  },
  {
   "cell_type": "markdown",
   "metadata": {},
   "source": [
    "- Berikut ini menghapus redundant kolom gender yang sudah dimiliki oleh kolom table users."
   ]
  },
  {
   "cell_type": "code",
   "execution_count": 24,
   "metadata": {},
   "outputs": [],
   "source": [
    "df_orders_date = df_orders.withColumn('created_at', to_date(col('created_at')))"
   ]
  },
  {
   "cell_type": "markdown",
   "metadata": {},
   "source": [
    "- merubah tipe data ke date "
   ]
  },
  {
   "cell_type": "markdown",
   "metadata": {},
   "source": [
    "### Data transform dan cleaning tabel entity Order_Items"
   ]
  },
  {
   "cell_type": "code",
   "execution_count": 25,
   "metadata": {},
   "outputs": [
    {
     "name": "stdout",
     "output_type": "stream",
     "text": [
      "+------+--------+-------+----------+-----------------+----------+--------------------+--------------------+-------------------+-------------------+------------------+\n",
      "|    id|order_id|user_id|product_id|inventory_item_id|    status|          created_at|          shipped_at|       delivered_at|        returned_at|        sale_price|\n",
      "+------+--------+-------+----------+-----------------+----------+--------------------+--------------------+-------------------+-------------------+------------------+\n",
      "| 21563|   14879|  11850|     14235|            58379| Cancelled| 2023-03-26 16:07:53|                NULL|               NULL|               NULL|0.0199999995529651|\n",
      "|136838|   94494|  75766|     14235|           369696| Cancelled|2024-12-02 17:16:...|                NULL|               NULL|               NULL|0.0199999995529651|\n",
      "|118204|   81671|  65373|     14235|           319399|  Complete| 2023-05-24 18:09:45| 2023-05-25 09:45:00|2023-05-28 17:37:00|               NULL|0.0199999995529651|\n",
      "|115450|   79757|  63799|     14235|           311991|Processing| 2024-04-17 15:53:19|                NULL|               NULL|               NULL|0.0199999995529651|\n",
      "| 19425|   13412|  10685|     14159|            52603| Cancelled| 2024-06-02 22:35:27|                NULL|               NULL|               NULL|0.4900000095367431|\n",
      "|  7572|    5285|   4199|     14159|            20455|  Complete| 2022-12-30 19:52:20| 2022-12-31 07:02:00|2023-01-03 17:59:00|               NULL|0.4900000095367431|\n",
      "|157295|  108589|  87012|     14159|           425066|  Complete| 2024-06-30 11:33:38| 2024-06-28 20:50:00|2024-07-02 05:49:00|               NULL|0.4900000095367431|\n",
      "| 39054|   27009|  21480|     14159|           105494|  Returned| 2022-03-16 16:59:18| 2022-03-16 20:24:00|2022-03-20 00:41:00|2022-03-21 02:58:00|0.4900000095367431|\n",
      "| 59167|   40811|  32499|     14159|           159850|   Shipped| 2021-01-31 23:59:26| 2021-02-03 01:44:00|               NULL|               NULL|0.4900000095367431|\n",
      "| 96000|   66291|  53043|     14159|           259548|   Shipped| 2024-09-30 06:57:19| 2024-10-01 18:21:00|               NULL|               NULL|0.4900000095367431|\n",
      "|108783|   75128|  60110|     14159|           294049|   Shipped| 2024-05-31 16:40:06| 2024-06-02 00:24:00|               NULL|               NULL|0.4900000095367431|\n",
      "|121775|   84103|  67331|     14159|           329009|   Shipped| 2022-01-08 20:14:35| 2022-01-10 22:47:00|               NULL|               NULL|0.4900000095367431|\n",
      "|133723|   92346|  74046|     14159|           361289|   Shipped|2024-12-01 15:19:...|2024-11-30 21:50:...|               NULL|               NULL|0.4900000095367431|\n",
      "| 42745|   29520|  23488|     28700|           115501|  Complete| 2024-10-29 21:27:10| 2024-10-31 10:04:00|2024-11-04 07:23:00|               NULL|               1.5|\n",
      "| 50032|   34501|  27425|     28700|           135193|  Complete| 2024-10-23 21:19:55| 2024-10-25 05:32:00|2024-10-28 22:17:00|               NULL|               1.5|\n",
      "| 52551|   36226|  28841|     28700|           141987|  Complete| 2021-06-16 00:13:26| 2021-06-17 17:55:00|2021-06-18 03:07:00|               NULL|               1.5|\n",
      "| 76917|   53044|  42313|     28700|           207816|  Complete| 2024-11-15 22:41:50| 2024-11-15 18:47:00|2024-11-16 04:12:00|               NULL|               1.5|\n",
      "|  3144|    2195|   1725|     14202|             8541|Processing| 2024-06-06 20:02:36|                NULL|               NULL|               NULL|               1.5|\n",
      "| 92346|   63703|  50899|     28700|           249643|Processing| 2020-08-05 23:11:30|                NULL|               NULL|               NULL|               1.5|\n",
      "|138978|   95970|  76949|     14202|           375562|Processing| 2020-06-17 22:31:32|                NULL|               NULL|               NULL|               1.5|\n",
      "+------+--------+-------+----------+-----------------+----------+--------------------+--------------------+-------------------+-------------------+------------------+\n",
      "only showing top 20 rows\n",
      "\n"
     ]
    }
   ],
   "source": [
    "df_order_items = spark.read.csv('/Users/mac/Documents/Hacktiv8/GC6/p2-coda001-rmt-gc6-mirzasjarief/look_order_items.csv', header=True, inferSchema=True)\n",
    "df_order_items.show()"
   ]
  },
  {
   "cell_type": "code",
   "execution_count": 26,
   "metadata": {},
   "outputs": [],
   "source": [
    "df_order_items = df_order_items.dropDuplicates()\n"
   ]
  },
  {
   "cell_type": "markdown",
   "metadata": {},
   "source": [
    "- Code ini memastikan tidak ada duplikat pada tabel yang dapat menyebabkan bias pada data"
   ]
  },
  {
   "cell_type": "code",
   "execution_count": 27,
   "metadata": {},
   "outputs": [
    {
     "name": "stdout",
     "output_type": "stream",
     "text": [
      "root\n",
      " |-- id: integer (nullable = true)\n",
      " |-- order_id: integer (nullable = true)\n",
      " |-- user_id: integer (nullable = true)\n",
      " |-- product_id: integer (nullable = true)\n",
      " |-- inventory_item_id: integer (nullable = true)\n",
      " |-- status: string (nullable = true)\n",
      " |-- created_at: timestamp (nullable = true)\n",
      " |-- shipped_at: timestamp (nullable = true)\n",
      " |-- delivered_at: timestamp (nullable = true)\n",
      " |-- returned_at: timestamp (nullable = true)\n",
      " |-- sale_price: double (nullable = true)\n",
      "\n"
     ]
    }
   ],
   "source": [
    "df_order_items.printSchema()"
   ]
  },
  {
   "cell_type": "markdown",
   "metadata": {},
   "source": [
    "- Melihat schema dari table entity Orders, nullable status tiap kolom dan data type dengan hasil tipe data String = 1, Int = 6, Timestamp = 4, double = 1"
   ]
  },
  {
   "cell_type": "code",
   "execution_count": 28,
   "metadata": {},
   "outputs": [
    {
     "name": "stderr",
     "output_type": "stream",
     "text": [
      "[Stage 65:>                                                         (0 + 3) / 3]\r"
     ]
    },
    {
     "name": "stdout",
     "output_type": "stream",
     "text": [
      "+-------+-----------------+-----------------+------------------+------------------+------------------+---------+------------------+\n",
      "|summary|               id|         order_id|           user_id|        product_id| inventory_item_id|   status|        sale_price|\n",
      "+-------+-----------------+-----------------+------------------+------------------+------------------+---------+------------------+\n",
      "|  count|            63936|            63936|             63936|             63936|             63936|    63936|             63936|\n",
      "|   mean|90295.94263013013|62335.82133696196| 49874.88289852352|15255.627674549549| 243993.4831081081|     NULL|18.716753274334028|\n",
      "| stddev|52217.25302045862|36052.59242782816|28941.562710163096| 8650.946749518132|141060.15392633106|     NULL| 6.712214229049677|\n",
      "|    min|                3|                3|                 1|                18|                 8|Cancelled|0.0199999995529651|\n",
      "|    max|           180678|           124760|             99999|             29114|            488025|  Shipped|29.989999771118164|\n",
      "+-------+-----------------+-----------------+------------------+------------------+------------------+---------+------------------+\n",
      "\n"
     ]
    },
    {
     "name": "stderr",
     "output_type": "stream",
     "text": [
      "                                                                                \r"
     ]
    }
   ],
   "source": [
    "df_order_items.describe().show()"
   ]
  },
  {
   "cell_type": "code",
   "execution_count": 29,
   "metadata": {},
   "outputs": [
    {
     "name": "stdout",
     "output_type": "stream",
     "text": [
      "+---+--------+-------+----------+-----------------+------+----------+----------+------------+-----------+----------+\n",
      "| id|order_id|user_id|product_id|inventory_item_id|status|created_at|shipped_at|delivered_at|returned_at|sale_price|\n",
      "+---+--------+-------+----------+-----------------+------+----------+----------+------------+-----------+----------+\n",
      "|  0|       0|      0|         0|                0|     0|         0|     22377|       41686|      57770|         0|\n",
      "+---+--------+-------+----------+-----------------+------+----------+----------+------------+-----------+----------+\n",
      "\n"
     ]
    }
   ],
   "source": [
    "null_data_order_items = df_order_items.select([sum(col(c).isNull().cast(\"int\")).alias(c) for c in df_order_items.columns])\n",
    "null_data_order_items.show()\n"
   ]
  },
  {
   "cell_type": "markdown",
   "metadata": {},
   "source": [
    "- Kali ini karena missing value yang lebih dari 50% dan sudah ada table mengenai shipped_at,delivered_at,returned_at pada table orders maka selanjutnya akan dihapus seluruh data yang memiliki missing value"
   ]
  },
  {
   "cell_type": "code",
   "execution_count": 30,
   "metadata": {},
   "outputs": [],
   "source": [
    "df_order_items_date = df_order_items.withColumn('created_at', to_date(col('created_at'))).withColumn('shipped_at', to_date(col('shipped_at'))).withColumn('delivered_at', to_date(col('delivered_at')))"
   ]
  },
  {
   "cell_type": "markdown",
   "metadata": {},
   "source": [
    "- berikut adalah merubah data type timestamp menjadi date\n"
   ]
  },
  {
   "cell_type": "markdown",
   "metadata": {},
   "source": [
    "### Data transform dan cleaning tabel entity Inventory Items"
   ]
  },
  {
   "cell_type": "code",
   "execution_count": 31,
   "metadata": {},
   "outputs": [
    {
     "name": "stdout",
     "output_type": "stream",
     "text": [
      "+------+----------+-------------------+-------------------+------------------+----------------+--------------------+------------------+--------------------+------------------+--------------------+------------------------------+\n",
      "|    id|product_id|         created_at|            sold_at|              cost|product_category|        product_name|     product_brand|product_retail_price|product_department|         product_sku|product_distribution_center_id|\n",
      "+------+----------+-------------------+-------------------+------------------+----------------+--------------------+------------------+--------------------+------------------+--------------------+------------------------------+\n",
      "| 19364|     13844|2024-02-10 00:00:05|2024-04-05 16:07:05| 2.768039897618853|     Accessories|(ONE) 1 Satin Hea...|Funny Girl Designs|   6.989999771118164|             Women|2A3E953A5E3D81E67...|                             7|\n",
      "| 19365|     13844|2023-05-31 23:56:00|               NULL| 2.768039897618853|     Accessories|(ONE) 1 Satin Hea...|Funny Girl Designs|   6.989999771118164|             Women|2A3E953A5E3D81E67...|                             7|\n",
      "|359920|     13844|2023-03-11 00:09:10|2023-04-28 13:33:10| 2.768039897618853|     Accessories|(ONE) 1 Satin Hea...|Funny Girl Designs|   6.989999771118164|             Women|2A3E953A5E3D81E67...|                             7|\n",
      "|359921|     13844|2023-10-13 23:24:00|               NULL| 2.768039897618853|     Accessories|(ONE) 1 Satin Hea...|Funny Girl Designs|   6.989999771118164|             Women|2A3E953A5E3D81E67...|                             7|\n",
      "|385930|     13844|2020-11-13 10:56:40|2020-12-04 03:18:40| 2.768039897618853|     Accessories|(ONE) 1 Satin Hea...|Funny Girl Designs|   6.989999771118164|             Women|2A3E953A5E3D81E67...|                             7|\n",
      "|385931|     13844|2023-04-12 00:57:00|               NULL| 2.768039897618853|     Accessories|(ONE) 1 Satin Hea...|Funny Girl Designs|   6.989999771118164|             Women|2A3E953A5E3D81E67...|                             7|\n",
      "|385932|     13844|2024-05-21 22:56:00|               NULL| 2.768039897618853|     Accessories|(ONE) 1 Satin Hea...|Funny Girl Designs|   6.989999771118164|             Women|2A3E953A5E3D81E67...|                             7|\n",
      "|412038|     13844|2023-11-11 21:29:56|2023-11-20 21:42:56| 2.768039897618853|     Accessories|(ONE) 1 Satin Hea...|Funny Girl Designs|   6.989999771118164|             Women|2A3E953A5E3D81E67...|                             7|\n",
      "|412039|     13844|2020-03-31 11:48:00|               NULL| 2.768039897618853|     Accessories|(ONE) 1 Satin Hea...|Funny Girl Designs|   6.989999771118164|             Women|2A3E953A5E3D81E67...|                             7|\n",
      "|438661|     13844|2022-08-10 18:24:54|2022-10-01 13:02:54| 2.768039897618853|     Accessories|(ONE) 1 Satin Hea...|Funny Girl Designs|   6.989999771118164|             Women|2A3E953A5E3D81E67...|                             7|\n",
      "|438662|     13844|2021-07-20 00:20:00|               NULL| 2.768039897618853|     Accessories|(ONE) 1 Satin Hea...|Funny Girl Designs|   6.989999771118164|             Women|2A3E953A5E3D81E67...|                             7|\n",
      "| 68202|     14086|2022-10-03 18:39:30|2022-10-17 11:28:30|2.2462499030120675|     Accessories|(One) CHEER Rhine...|Funny Girl Designs|   5.989999771118164|             Women|8EFA9015A4EF4632A...|                             7|\n",
      "| 68203|     14086|2021-10-01 19:48:00|               NULL|2.2462499030120675|     Accessories|(One) CHEER Rhine...|Funny Girl Designs|   5.989999771118164|             Women|8EFA9015A4EF4632A...|                             7|\n",
      "|152434|     14086|2021-03-27 20:47:20|2021-03-29 20:13:20|2.2462499030120675|     Accessories|(One) CHEER Rhine...|Funny Girl Designs|   5.989999771118164|             Women|8EFA9015A4EF4632A...|                             7|\n",
      "|152435|     14086|2024-03-16 21:24:00|               NULL|2.2462499030120675|     Accessories|(One) CHEER Rhine...|Funny Girl Designs|   5.989999771118164|             Women|8EFA9015A4EF4632A...|                             7|\n",
      "|221783|     14086|2024-03-10 19:05:32|2024-05-02 09:05:32|2.2462499030120675|     Accessories|(One) CHEER Rhine...|Funny Girl Designs|   5.989999771118164|             Women|8EFA9015A4EF4632A...|                             7|\n",
      "|221784|     14086|2022-07-03 16:18:00|               NULL|2.2462499030120675|     Accessories|(One) CHEER Rhine...|Funny Girl Designs|   5.989999771118164|             Women|8EFA9015A4EF4632A...|                             7|\n",
      "|420256|     14086|2024-06-28 07:41:16|2024-07-03 18:58:16|2.2462499030120675|     Accessories|(One) CHEER Rhine...|Funny Girl Designs|   5.989999771118164|             Women|8EFA9015A4EF4632A...|                             7|\n",
      "|420257|     14086|2024-10-02 15:32:00|               NULL|2.2462499030120675|     Accessories|(One) CHEER Rhine...|Funny Girl Designs|   5.989999771118164|             Women|8EFA9015A4EF4632A...|                             7|\n",
      "|449542|     14086|2024-08-17 11:11:42|2024-08-27 05:26:42|2.2462499030120675|     Accessories|(One) CHEER Rhine...|Funny Girl Designs|   5.989999771118164|             Women|8EFA9015A4EF4632A...|                             7|\n",
      "+------+----------+-------------------+-------------------+------------------+----------------+--------------------+------------------+--------------------+------------------+--------------------+------------------------------+\n",
      "only showing top 20 rows\n",
      "\n"
     ]
    }
   ],
   "source": [
    "df_inv = spark.read.csv('/Users/mac/Documents/Hacktiv8/GC6/p2-coda001-rmt-gc6-mirzasjarief/look_inventory_items.csv', header=True, inferSchema=True)\n",
    "df_inv.show()"
   ]
  },
  {
   "cell_type": "code",
   "execution_count": 32,
   "metadata": {},
   "outputs": [],
   "source": [
    "df_inv = df_inv.dropDuplicates()\n"
   ]
  },
  {
   "cell_type": "markdown",
   "metadata": {},
   "source": [
    "- Berikut menghapus duplikat data pada tabel inventory_items"
   ]
  },
  {
   "cell_type": "code",
   "execution_count": 33,
   "metadata": {},
   "outputs": [
    {
     "name": "stdout",
     "output_type": "stream",
     "text": [
      "root\n",
      " |-- id: integer (nullable = true)\n",
      " |-- product_id: integer (nullable = true)\n",
      " |-- created_at: timestamp (nullable = true)\n",
      " |-- sold_at: timestamp (nullable = true)\n",
      " |-- cost: double (nullable = true)\n",
      " |-- product_category: string (nullable = true)\n",
      " |-- product_name: string (nullable = true)\n",
      " |-- product_brand: string (nullable = true)\n",
      " |-- product_retail_price: double (nullable = true)\n",
      " |-- product_department: string (nullable = true)\n",
      " |-- product_sku: string (nullable = true)\n",
      " |-- product_distribution_center_id: integer (nullable = true)\n",
      "\n"
     ]
    }
   ],
   "source": [
    "df_inv.printSchema()"
   ]
  },
  {
   "cell_type": "markdown",
   "metadata": {},
   "source": [
    "- Metode ini digunakan untuk melihat status nullable dan data type table inventory_items yang memiliki data string = 5, integer = 3, timestamp = 2, double = 2"
   ]
  },
  {
   "cell_type": "code",
   "execution_count": 34,
   "metadata": {},
   "outputs": [
    {
     "name": "stderr",
     "output_type": "stream",
     "text": [
      "[Stage 78:>                                                         (0 + 2) / 2]\r"
     ]
    },
    {
     "name": "stdout",
     "output_type": "stream",
     "text": [
      "+---+----------+----------+-------+----+----------------+------------+-------------+--------------------+------------------+-----------+------------------------------+\n",
      "| id|product_id|created_at|sold_at|cost|product_category|product_name|product_brand|product_retail_price|product_department|product_sku|product_distribution_center_id|\n",
      "+---+----------+----------+-------+----+----------------+------------+-------------+--------------------+------------------+-----------+------------------------------+\n",
      "|  0|         0|         0|  26775|   0|               0|           0|           37|                   0|                 0|          0|                             0|\n",
      "+---+----------+----------+-------+----+----------------+------------+-------------+--------------------+------------------+-----------+------------------------------+\n",
      "\n"
     ]
    },
    {
     "name": "stderr",
     "output_type": "stream",
     "text": [
      "                                                                                \r"
     ]
    }
   ],
   "source": [
    "null_inv = df_inv.select([sum(col(c).isNull().cast(\"int\")).alias(c) for c in df_inv.columns])\n",
    "null_inv.show()\n"
   ]
  },
  {
   "cell_type": "markdown",
   "metadata": {},
   "source": [
    "- Terdapat missing value yang tinggi pada kolom sold at namun tidak dapat dihapus karena memberi petunjuk bahwa barang masih berada di gudang dan kapan barang keluar, serta sedikit mising value pada produk brand yang akan dihapus karena berisi data yang berulang dari table produk."
   ]
  },
  {
   "cell_type": "code",
   "execution_count": 35,
   "metadata": {},
   "outputs": [
    {
     "name": "stdout",
     "output_type": "stream",
     "text": [
      "+------+----------+-------------------+-------------------+------------------+----------------+--------------------+-------------------+--------------------+------------------+--------------------+------------------------------+\n",
      "|    id|product_id|         created_at|            sold_at|              cost|product_category|        product_name|      product_brand|product_retail_price|product_department|         product_sku|product_distribution_center_id|\n",
      "+------+----------+-------------------+-------------------+------------------+----------------+--------------------+-------------------+--------------------+------------------+--------------------+------------------------------+\n",
      "| 82147|     28953|2023-06-18 21:17:41|2023-08-16 13:49:41| 7.429869883489907|     Accessories|100% Silk Woven G...|          TheTieBar|  17.989999771118164|               Men|7B889DA86FA368B08...|                             7|\n",
      "| 77591|     13944|2024-08-08 20:15:11|2024-09-14 14:03:11|1.7914200385826824|     Accessories|Buxton Snigglet M...|             Buxton|   4.380000114440918|             Women|6A1EE3F23287B452B...|                             8|\n",
      "|295550|     28306|2023-06-23 17:54:54|2023-08-17 06:38:54| 9.946019869293105|     Accessories|Carhartt Men's An...|           Carhartt|  24.989999771118164|               Men|0F7DFE5E8787EFA04...|                             3|\n",
      "| 77555|     28984|2023-04-27 06:12:23|2023-06-08 14:07:23| 12.06179007916715|     Accessories|Carhartt Men's Fl...|           Carhartt|   29.93000030517578|               Men|133CC6B5565F9A478...|                             3|\n",
      "|  2480|     28413|2023-02-18 23:40:21|2023-04-14 18:58:21|5.9634899161180845|     Accessories|Carhartt Men's Ut...|           Carhartt|  16.989999771118164|               Men|20F3D99862A33C859...|                             3|\n",
      "|210754|     28712|2022-07-12 13:42:02|2022-08-10 16:26:02|2.1162899608379604|     Accessories|Curlycue Big Lens...|          GirlPROPS|   5.829999923706056|               Men|023974618D255E24C...|                             7|\n",
      "|258396|     14044|2022-02-27 18:54:53|2022-04-06 12:47:53| 36.79104095104992|     Accessories|D&G Dolce & Gabba...|D&G Dolce & Gabbana|   88.44000244140625|             Women|2CB1E384E0906033E...|                             3|\n",
      "|272691|     14268|2023-08-11 06:19:03|2023-09-18 13:39:03|2.8286499135162684|     Accessories|Fashion Vintage R...|          106Shades|   6.949999809265137|             Women|81A6F51D90AF2C00D...|                             6|\n",
      "|233189|     28327|2022-06-06 18:22:17|2022-07-21 08:54:17| 8.356199890087545|     Accessories|Fennco Ruffle Kni...|             Fennco|  21.989999771118164|               Men|436C869CC2E14E9A3...|                            10|\n",
      "|309961|     29102|2024-04-24 16:16:51|2024-05-29 19:45:51|5.0777999314039945|     Accessories|Harley DavidsonÂ®...|    Harley-Davidson|  13.949999809265137|               Men|D1F6B0F22FB84F1E2...|                             7|\n",
      "|458032|     14175|2024-01-07 11:05:55|2024-01-22 17:46:55| 31.26384118868023|     Accessories|Hobo  Women's Any...|               HOBO|   72.37000274658203|             Women|A3DFEC8B6A89762B4...|                             7|\n",
      "|312802|     28354|2024-09-19 23:10:30|2024-09-20 19:00:30|13.919500254627316|     Accessories|Isotoner Men's Sp...|           Isotoner|   33.95000076293945|               Men|E4E581586DB0FC30A...|                             1|\n",
      "| 33363|     28678|2023-01-10 12:37:43|2023-03-03 12:01:43|19.169999957084656|     Accessories|Kangol Men's Trop...|             Kangol|                45.0|               Men|B2B9EFA258316B098...|                             3|\n",
      "|432003|     29077|2024-07-24 03:36:18|2024-08-12 09:01:18| 6.872179899699688|     Accessories|Knit Collegiate R...|          Sportsman|  17.989999771118164|               Men|0853DE1F652D3A206...|                             8|\n",
      "|328231|     13693|2021-07-26 06:09:19|2021-08-21 07:43:19|3.9959998935610055|     Accessories|La Fiorentina Wom...|      La Fiorentina|   9.989999771118164|             Women|455A9CE9E0C8E8A0C...|                             5|\n",
      "|118310|     13815|2023-07-19 04:20:47|2023-07-30 05:49:47| 38.10399985313416|     Accessories|LeSportsac Deluxe...|         LeSportsac|                88.0|             Women|45DDFA251D2530F68...|                             2|\n",
      "|107352|     28918|2024-09-26 09:42:58|2024-11-20 05:46:58| 9.944999953731894|     Accessories|Levi's Men's Big ...|             Levi's|                22.5|               Men|C8C91941C44EE273A...|                             4|\n",
      "| 29751|     14329|2024-09-08 03:27:18|2024-10-17 21:26:18|115.41399942524733|     Accessories|Maui Jim Maverick...|           Maui Jim|               299.0|             Women|33192F6B62911C61D...|                             8|\n",
      "|488007|     14240|2024-09-19 21:44:13|2024-11-04 19:34:13|34.910698621797565|     Accessories|Michael Kors Pipp...|       Michael Kors|   81.94999694824217|             Women|40A65E5A692BF1F5F...|                             2|\n",
      "|  9401|     28356|2024-03-14 02:49:55|2024-05-12 12:23:55| 8.219999969005585|     Accessories|Nike Golf Men's T...|               Nike|                20.0|               Men|4C33D297987F15543...|                             7|\n",
      "+------+----------+-------------------+-------------------+------------------+----------------+--------------------+-------------------+--------------------+------------------+--------------------+------------------------------+\n",
      "only showing top 20 rows\n",
      "\n"
     ]
    }
   ],
   "source": [
    "df_inv = df_inv.na.fill({\"product_brand\": \"Unknown\"})\n",
    "df_inv.show()"
   ]
  },
  {
   "cell_type": "markdown",
   "metadata": {},
   "source": [
    "### Data transform dan cleaning tabel entity Distribution Center"
   ]
  },
  {
   "cell_type": "code",
   "execution_count": 36,
   "metadata": {},
   "outputs": [
    {
     "name": "stdout",
     "output_type": "stream",
     "text": [
      "+---+--------------------+--------+---------+------------------------+\n",
      "| id|                name|latitude|longitude|distribution_center_geom|\n",
      "+---+--------------------+--------+---------+------------------------+\n",
      "| 10|         Savannah GA| 32.0167| -81.1167|    POINT(-81.1167 32...|\n",
      "|  4|      Los Angeles CA|   34.05|  -118.25|    POINT(-118.25 34.05)|\n",
      "|  3|          Houston TX| 29.7604| -95.3698|    POINT(-95.3698 29...|\n",
      "|  7|     Philadelphia PA|   39.95| -75.1667|    POINT(-75.1667 39...|\n",
      "|  1|          Memphis TN| 35.1174| -89.9711|    POINT(-89.9711 35...|\n",
      "|  5|      New Orleans LA|   29.95| -90.0667|    POINT(-90.0667 29...|\n",
      "|  9|       Charleston SC| 32.7833| -79.9333|    POINT(-79.9333 32...|\n",
      "|  6|Port Authority of...|  40.634| -73.7834|    POINT(-73.7834 40...|\n",
      "|  8|           Mobile AL| 30.6944| -88.0431|    POINT(-88.0431 30...|\n",
      "|  2|          Chicago IL| 41.8369| -87.6847|    POINT(-87.6847 41...|\n",
      "+---+--------------------+--------+---------+------------------------+\n",
      "\n"
     ]
    }
   ],
   "source": [
    "df_dist = spark.read.csv('/Users/mac/Documents/Hacktiv8/GC6/p2-coda001-rmt-gc6-mirzasjarief/look_distribution_centers.csv', header=True, inferSchema=True)\n",
    "df_dist.show()"
   ]
  },
  {
   "cell_type": "code",
   "execution_count": 37,
   "metadata": {},
   "outputs": [
    {
     "name": "stdout",
     "output_type": "stream",
     "text": [
      "+---+--------------------+------------------------+\n",
      "| id|                name|distribution_center_geom|\n",
      "+---+--------------------+------------------------+\n",
      "| 10|         Savannah GA|    POINT(-81.1167 32...|\n",
      "|  4|      Los Angeles CA|    POINT(-118.25 34.05)|\n",
      "|  3|          Houston TX|    POINT(-95.3698 29...|\n",
      "|  7|     Philadelphia PA|    POINT(-75.1667 39...|\n",
      "|  1|          Memphis TN|    POINT(-89.9711 35...|\n",
      "|  5|      New Orleans LA|    POINT(-90.0667 29...|\n",
      "|  9|       Charleston SC|    POINT(-79.9333 32...|\n",
      "|  6|Port Authority of...|    POINT(-73.7834 40...|\n",
      "|  8|           Mobile AL|    POINT(-88.0431 30...|\n",
      "|  2|          Chicago IL|    POINT(-87.6847 41...|\n",
      "+---+--------------------+------------------------+\n",
      "\n"
     ]
    }
   ],
   "source": [
    "df_dist = df_dist.drop(\"latitude\",\"longitude\")\n",
    "\n",
    "df_dist.show()"
   ]
  },
  {
   "cell_type": "markdown",
   "metadata": {},
   "source": [
    "- Untuk efisiensi langkah berikutnya menghapus kolo longitude dan langitude karena sudah diwakilkan dengan distribution_center_geom"
   ]
  },
  {
   "cell_type": "markdown",
   "metadata": {},
   "source": [
    "### Connecting to Database (postgresSQL)"
   ]
  },
  {
   "cell_type": "code",
   "execution_count": 38,
   "metadata": {},
   "outputs": [
    {
     "name": "stderr",
     "output_type": "stream",
     "text": [
      "                                                                                \r"
     ]
    },
    {
     "data": {
      "text/plain": [
       "184"
      ]
     },
     "execution_count": 38,
     "metadata": {},
     "output_type": "execute_result"
    }
   ],
   "source": [
    "# Connect with database credentials\n",
    "db_user = \"postgres\"\n",
    "db_password = \"postgres\"\n",
    "db_host = \"localhost\"\n",
    "db_port = \"5432\"\n",
    "db_name = \"the_look\"\n",
    "\n",
    "# Create a connection string\n",
    "connection_string = f\"postgresql+psycopg2://{'postgres'}:{'postgres'}@{'localhost'}:{5432}/{'the_look'}\"\n",
    "\n",
    "# Create the database engine\n",
    "engine = create_engine(connection_string)\n",
    "\n",
    "# transform to pandas and load to SQL\n",
    "df_users = df_users.toPandas()\n",
    "df_users.to_sql(\"customer_data\", engine, if_exists='replace', index=False)"
   ]
  },
  {
   "cell_type": "markdown",
   "metadata": {},
   "source": [
    "- Mengisi data base credentials load customer_data ke database"
   ]
  },
  {
   "cell_type": "code",
   "execution_count": 39,
   "metadata": {},
   "outputs": [
    {
     "data": {
      "text/plain": [
       "120"
      ]
     },
     "execution_count": 39,
     "metadata": {},
     "output_type": "execute_result"
    }
   ],
   "source": [
    "# Create a connection string\n",
    "connection_string = f\"postgresql+psycopg2://{'postgres'}:{'postgres'}@{'localhost'}:{5432}/{'the_look'}\"\n",
    "\n",
    "# Create the database engine\n",
    "engine = create_engine(connection_string)\n",
    "\n",
    "# transform to pandas and load to SQL\n",
    "df_products = df_products.toPandas()\n",
    "df_products.to_sql(\"products_data\", engine, if_exists='replace', index=False)"
   ]
  },
  {
   "cell_type": "markdown",
   "metadata": {},
   "source": [
    "- load products_data ke database"
   ]
  },
  {
   "cell_type": "code",
   "execution_count": 40,
   "metadata": {},
   "outputs": [
    {
     "data": {
      "text/plain": [
       "905"
      ]
     },
     "execution_count": 40,
     "metadata": {},
     "output_type": "execute_result"
    }
   ],
   "source": [
    "# Create a connection string\n",
    "connection_string = f\"postgresql+psycopg2://{'postgres'}:{'postgres'}@{'localhost'}:{5432}/{'the_look'}\"\n",
    "\n",
    "# Create the database engine\n",
    "engine = create_engine(connection_string)\n",
    "\n",
    "# transform to pandas and load to SQL\n",
    "df_orders_date = df_orders_date.toPandas()\n",
    "df_orders_date.to_sql(\"orders_data\", engine, if_exists='replace', index=False)"
   ]
  },
  {
   "cell_type": "markdown",
   "metadata": {},
   "source": [
    "- load orders data"
   ]
  },
  {
   "cell_type": "code",
   "execution_count": 41,
   "metadata": {},
   "outputs": [
    {
     "data": {
      "text/plain": [
       "571"
      ]
     },
     "execution_count": 41,
     "metadata": {},
     "output_type": "execute_result"
    }
   ],
   "source": [
    "# Create a connection string\n",
    "connection_string = f\"postgresql+psycopg2://{'postgres'}:{'postgres'}@{'localhost'}:{5432}/{'the_look'}\"\n",
    "\n",
    "# Create the database engine\n",
    "engine = create_engine(connection_string)\n",
    "\n",
    "# transform to pandas and load to SQL\n",
    "df_inv = df_inv.toPandas()\n",
    "df_inv.to_sql(\"inventory_data\", engine, if_exists='replace', index=False)"
   ]
  },
  {
   "cell_type": "markdown",
   "metadata": {},
   "source": [
    "- load inventory_data ke database"
   ]
  },
  {
   "cell_type": "code",
   "execution_count": 42,
   "metadata": {},
   "outputs": [
    {
     "data": {
      "text/plain": [
       "10"
      ]
     },
     "execution_count": 42,
     "metadata": {},
     "output_type": "execute_result"
    }
   ],
   "source": [
    "# Create a connection string\n",
    "connection_string = f\"postgresql+psycopg2://{'postgres'}:{'postgres'}@{'localhost'}:{5432}/{'the_look'}\"\n",
    "\n",
    "# Create the database engine\n",
    "engine = create_engine(connection_string)\n",
    "\n",
    "# transform to pandas and load to SQL\n",
    "df_dist = df_dist.toPandas()\n",
    "df_dist.to_sql(\"distribution_data\", engine, if_exists='replace', index=False)"
   ]
  },
  {
   "cell_type": "markdown",
   "metadata": {},
   "source": [
    "- load distribution_data ke database"
   ]
  },
  {
   "cell_type": "code",
   "execution_count": 43,
   "metadata": {},
   "outputs": [
    {
     "name": "stderr",
     "output_type": "stream",
     "text": [
      "                                                                                \r"
     ]
    },
    {
     "data": {
      "text/plain": [
       "936"
      ]
     },
     "execution_count": 43,
     "metadata": {},
     "output_type": "execute_result"
    }
   ],
   "source": [
    "# Create a connection string\n",
    "connection_string = f\"postgresql+psycopg2://{'postgres'}:{'postgres'}@{'localhost'}:{5432}/{'the_look'}\"\n",
    "\n",
    "# Create the database engine\n",
    "engine = create_engine(connection_string)\n",
    "\n",
    "# transform to pandas and load to SQL\n",
    "df_order_items_date= df_order_items_date.toPandas()\n",
    "df_order_items_date.to_sql(\"order_items_data\", engine, if_exists='replace', index=False)"
   ]
  },
  {
   "cell_type": "markdown",
   "metadata": {},
   "source": [
    "- load order_items_data ke database"
   ]
  },
  {
   "cell_type": "markdown",
   "metadata": {},
   "source": [
    "Google Slide Link :\n",
    "https://docs.google.com/presentation/d/1mBx0e1DD5zaB4deAzdCkDpsYNUme-ippkzZscIUPx3Y/edit?usp=sharing"
   ]
  }
 ],
 "metadata": {
  "kernelspec": {
   "display_name": "base",
   "language": "python",
   "name": "python3"
  },
  "language_info": {
   "codemirror_mode": {
    "name": "ipython",
    "version": 3
   },
   "file_extension": ".py",
   "mimetype": "text/x-python",
   "name": "python",
   "nbconvert_exporter": "python",
   "pygments_lexer": "ipython3",
   "version": "3.12.2"
  }
 },
 "nbformat": 4,
 "nbformat_minor": 2
}
